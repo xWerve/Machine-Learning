{
 "cells": [
  {
   "cell_type": "code",
   "execution_count": 1,
   "id": "a1b97b56-e186-4f5c-949b-91d095c2c074",
   "metadata": {},
   "outputs": [],
   "source": [
    "import numpy as np\n",
    "import pandas as pd\n",
    "import pickle\n",
    "from sklearn import datasets\n",
    "from sklearn.model_selection import train_test_split, GridSearchCV\n",
    "from sklearn.preprocessing import StandardScaler, PolynomialFeatures\n",
    "from sklearn.pipeline import Pipeline\n",
    "from sklearn.svm import LinearSVC, LinearSVR, SVR\n",
    "from sklearn.metrics import accuracy_score, mean_squared_error"
   ]
  },
  {
   "cell_type": "code",
   "execution_count": 2,
   "id": "2fbdab85-1a83-48bf-8961-86795b552202",
   "metadata": {},
   "outputs": [],
   "source": [
    "data_breast_cancer = datasets.load_breast_cancer()\n",
    "X_bc = data_breast_cancer.data[:, [3, 4]]  # mean area, mean smoothness\n",
    "y_bc = data_breast_cancer.target\n",
    "\n",
    "X_bc_train, X_bc_test, y_bc_train, y_bc_test = train_test_split(X_bc, y_bc, test_size=0.2, random_state=42)\n"
   ]
  },
  {
   "cell_type": "code",
   "execution_count": 3,
   "id": "3364e225-bac8-40d4-a793-53b26b8fcbf4",
   "metadata": {},
   "outputs": [
    {
     "name": "stderr",
     "output_type": "stream",
     "text": [
      "C:\\Users\\mkrol\\AppData\\Local\\Programs\\Python\\Python312\\Lib\\site-packages\\sklearn\\svm\\_base.py:1249: ConvergenceWarning: Liblinear failed to converge, increase the number of iterations.\n",
      "  warnings.warn(\n"
     ]
    }
   ],
   "source": [
    "model_bc = LinearSVC(loss=\"hinge\", max_iter=10000)\n",
    "model_bc.fit(X_bc_train, y_bc_train)\n",
    "acc_bc_train = accuracy_score(y_bc_train, model_bc.predict(X_bc_train))\n",
    "acc_bc_test = accuracy_score(y_bc_test, model_bc.predict(X_bc_test))"
   ]
  },
  {
   "cell_type": "code",
   "execution_count": 4,
   "id": "5bbfc376-5155-43bf-afef-619847e38244",
   "metadata": {},
   "outputs": [],
   "source": [
    "scaler_bc = StandardScaler()\n",
    "X_bc_train_scaled = scaler_bc.fit_transform(X_bc_train)\n",
    "X_bc_test_scaled = scaler_bc.transform(X_bc_test)\n",
    "\n",
    "model_bc_scaled = LinearSVC(loss=\"hinge\", max_iter=10000)\n",
    "model_bc_scaled.fit(X_bc_train_scaled, y_bc_train)\n",
    "acc_bc_train_scaled = accuracy_score(y_bc_train, model_bc_scaled.predict(X_bc_train_scaled))\n",
    "acc_bc_test_scaled = accuracy_score(y_bc_test, model_bc_scaled.predict(X_bc_test_scaled))\n",
    "\n",
    "bc_acc = [acc_bc_train, acc_bc_test, acc_bc_train_scaled, acc_bc_test_scaled]\n",
    "with open(\"bc_acc.pkl\", \"wb\") as f:\n",
    "    pickle.dump(bc_acc, f)\n"
   ]
  },
  {
   "cell_type": "code",
   "execution_count": 5,
   "id": "d5fcb5d0-7780-459e-a12f-b74d6ad54c5f",
   "metadata": {},
   "outputs": [],
   "source": [
    "data_iris = datasets.load_iris()\n",
    "X_iris = data_iris.data[:, [2, 3]]  # petal length, petal width\n",
    "y_iris = (data_iris.target == 2).astype(int)  # Virginica vs others\n",
    "\n",
    "X_iris_train, X_iris_test, y_iris_train, y_iris_test = train_test_split(X_iris, y_iris, test_size=0.2, random_state=42)"
   ]
  },
  {
   "cell_type": "code",
   "execution_count": 6,
   "id": "0dcf24f7-09e9-4faf-8bbe-faf843bb6775",
   "metadata": {},
   "outputs": [],
   "source": [
    "model_iris = LinearSVC(loss=\"hinge\", max_iter=10000)\n",
    "model_iris.fit(X_iris_train, y_iris_train)\n",
    "acc_iris_train = accuracy_score(y_iris_train, model_iris.predict(X_iris_train))\n",
    "acc_iris_test = accuracy_score(y_iris_test, model_iris.predict(X_iris_test))"
   ]
  },
  {
   "cell_type": "code",
   "execution_count": 7,
   "id": "016844fa-bdc2-4566-9858-270263bf1840",
   "metadata": {},
   "outputs": [],
   "source": [
    "scaler_iris = StandardScaler()\n",
    "X_iris_train_scaled = scaler_iris.fit_transform(X_iris_train)\n",
    "X_iris_test_scaled = scaler_iris.transform(X_iris_test)\n",
    "\n",
    "model_iris_scaled = LinearSVC(loss=\"hinge\", max_iter=10000)\n",
    "model_iris_scaled.fit(X_iris_train_scaled, y_iris_train)\n",
    "acc_iris_train_scaled = accuracy_score(y_iris_train, model_iris_scaled.predict(X_iris_train_scaled))\n",
    "acc_iris_test_scaled = accuracy_score(y_iris_test, model_iris_scaled.predict(X_iris_test_scaled))\n",
    "\n",
    "iris_acc = [acc_iris_train, acc_iris_test, acc_iris_train_scaled, acc_iris_test_scaled]\n",
    "with open(\"iris_acc.pkl\", \"wb\") as f:\n",
    "    pickle.dump(iris_acc, f)\n"
   ]
  },
  {
   "cell_type": "code",
   "execution_count": 8,
   "id": "d5cf5723-4bba-47d6-8669-1fd210480992",
   "metadata": {},
   "outputs": [],
   "source": [
    "size = 900\n",
    "X = np.random.rand(size) * 5 - 2.5\n",
    "w4, w3, w2, w1, w0 = 1, 2, 1, -4, 2\n",
    "y = w4*(X**4) + w3*(X**3) + w2*(X**2) + w1*X + w0 + np.random.randn(size)*8 - 4\n",
    "\n",
    "X_poly = X.reshape(-1, 1)\n",
    "y_poly = y\n",
    "X_poly_train, X_poly_test, y_poly_train, y_poly_test = train_test_split(X_poly, y_poly, test_size=0.2, random_state=42)"
   ]
  },
  {
   "cell_type": "code",
   "execution_count": 9,
   "id": "d9c3e722-9058-4549-916e-e599871fbb34",
   "metadata": {},
   "outputs": [],
   "source": [
    "pipe_linsvr = Pipeline([\n",
    "    (\"poly\", PolynomialFeatures(degree=4)),\n",
    "    (\"scaler\", StandardScaler()),\n",
    "    (\"lin_svr\", LinearSVR())\n",
    "])\n",
    "pipe_linsvr.fit(X_poly_train, y_poly_train)\n",
    "mse_linsvr_train = mean_squared_error(y_poly_train, pipe_linsvr.predict(X_poly_train))\n",
    "mse_linsvr_test = mean_squared_error(y_poly_test, pipe_linsvr.predict(X_poly_test))\n"
   ]
  },
  {
   "cell_type": "code",
   "execution_count": 10,
   "id": "895ae422-bac7-4ed2-ba0e-574ea2be56ad",
   "metadata": {},
   "outputs": [],
   "source": [
    "pipe_svr = Pipeline([\n",
    "    (\"scaler\", StandardScaler()),\n",
    "    (\"svr\", SVR(kernel=\"poly\", degree=4))\n",
    "])\n",
    "pipe_svr.fit(X_poly_train, y_poly_train)\n",
    "mse_svr_train = mean_squared_error(y_poly_train, pipe_svr.predict(X_poly_train))\n",
    "mse_svr_test = mean_squared_error(y_poly_test, pipe_svr.predict(X_poly_test))\n"
   ]
  },
  {
   "cell_type": "code",
   "execution_count": null,
   "id": "64337011-f4d6-4b4f-a877-2fab1339a70b",
   "metadata": {},
   "outputs": [],
   "source": [
    "param_grid = {\n",
    "    \"svr__C\": [0.1, 1, 10],\n",
    "    \"svr__coef0\": [0.1, 1, 10]\n",
    "}\n",
    "pipe_svr_grid = Pipeline([\n",
    "    (\"scaler\", StandardScaler()),\n",
    "    (\"svr\", SVR(kernel=\"poly\", degree=4))\n",
    "])\n",
    "grid = GridSearchCV(pipe_svr_grid, param_grid, scoring=\"neg_mean_squared_error\", cv=5)\n",
    "grid.fit(X_poly, y_poly)\n"
   ]
  },
  {
   "cell_type": "code",
   "execution_count": null,
   "id": "4a37a191-8bf8-40db-933c-0acf141559fa",
   "metadata": {},
   "outputs": [],
   "source": []
  }
 ],
 "metadata": {
  "kernelspec": {
   "display_name": "Python 3 (ipykernel)",
   "language": "python",
   "name": "python3"
  },
  "language_info": {
   "codemirror_mode": {
    "name": "ipython",
    "version": 3
   },
   "file_extension": ".py",
   "mimetype": "text/x-python",
   "name": "python",
   "nbconvert_exporter": "python",
   "pygments_lexer": "ipython3",
   "version": "3.12.0"
  }
 },
 "nbformat": 4,
 "nbformat_minor": 5
}
